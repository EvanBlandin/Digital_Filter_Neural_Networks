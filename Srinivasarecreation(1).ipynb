{
  "nbformat": 4,
  "nbformat_minor": 0,
  "metadata": {
    "colab": {
      "name": "Srinivasarecreation.ipynb",
      "provenance": [],
      "collapsed_sections": []
    },
    "kernelspec": {
      "name": "python3",
      "display_name": "Python 3"
    },
    "language_info": {
      "name": "python"
    }
  },
  "cells": [
    {
      "cell_type": "code",
      "metadata": {
        "id": "7FL41tz78xhF"
      },
      "source": [
        "import numpy as np\n",
        "import math as m\n",
        "from tensorflow.keras import layers, models\n",
        "import matplotlib.pyplot as plt\n",
        "import random as rand"
      ],
      "execution_count": null,
      "outputs": []
    },
    {
      "cell_type": "code",
      "metadata": {
        "colab": {
          "base_uri": "https://localhost:8080/",
          "height": 297
        },
        "id": "uKWbpxtUH-UO",
        "outputId": "bb8298c5-ca7e-4eb2-8757-f1bdd33f8997"
      },
      "source": [
        "timelist=[i/128 for i in range(128)]\n",
        "x5=np.array([[m.sin(10*m.pi*i)] for i in timelist])\n",
        "x10=np.array([[m.sin(20*m.pi*i)] for i in timelist])\n",
        "times=np.array(timelist)\n",
        "#plt.plot(timelist,x5,timelist,x10)\n",
        "#plt.xlabel('Time (s)')\n",
        "\n",
        "x5_noise=[[m.sin(10*m.pi*i)+rand.random()] for i in timelist]\n",
        "plt.plot(timelist,x5_noise)\n",
        "plt.xlabel('Time (s)')\n"
      ],
      "execution_count": null,
      "outputs": [
        {
          "output_type": "execute_result",
          "data": {
            "text/plain": [
              "Text(0.5, 0, 'Time (s)')"
            ]
          },
          "metadata": {},
          "execution_count": 45
        },
        {
          "output_type": "display_data",
          "data": {
            "text/plain": [
              "<Figure size 432x288 with 1 Axes>"
            ],
            "image/png": "[encoded data removed]"
          },
          "metadata": {
            "needs_background": "light"
          }
        }
      ]
    },
    {
      "cell_type": "code",
      "metadata": {
        "colab": {
          "base_uri": "https://localhost:8080/"
        },
        "id": "iP4tJDrfYeZj",
        "outputId": "fba3932a-4bb8-4051-9f05-a1cdae393a35"
      },
      "source": [
        "x5_train=np.array([[[m.sin(10*m.pi*i)+rand.random()] for i in timelist] for k in range(200)])\n",
        "x10_train=np.array([[[m.sin(20*m.pi*i)+rand.random()] for i in timelist] for k in range(200)])\n",
        "x_train=np.concatenate((x5_train,x10_train),axis=0)\n",
        "y5_train=np.array([[1,0] for i in range(200)])\n",
        "y10_train=np.array([[0,1] for i in range(200)])\n",
        "y_train=np.concatenate((y5_train,y10_train),axis=0)\n",
        "print(x_train.shape)\n",
        "print(y_train.shape)\n"
      ],
      "execution_count": null,
      "outputs": [
        {
          "output_type": "stream",
          "name": "stdout",
          "text": [
            "(400, 128, 1)\n",
            "(400, 2)\n"
          ]
        }
      ]
    },
    {
      "cell_type": "code",
      "metadata": {
        "id": "2ujeKPE8Nbr4"
      },
      "source": [
        "no_kernels=2\n",
        "n_i=128\n",
        "length_of_kernel=32\n",
        "\n",
        "model=models.Sequential()\n",
        "model.add(layers.Conv1D(no_kernels,length_of_kernel,activation='relu',padding='same',input_shape=(n_i,1)))\n",
        "model.add(layers.Flatten())\n",
        "model.add(layers.Dense(2,activation='softmax'))\n",
        "model.compile(loss='mse',optimizer='adam',metrics=['accuracy'])\n"
      ],
      "execution_count": null,
      "outputs": []
    },
    {
      "cell_type": "code",
      "metadata": {
        "colab": {
          "base_uri": "https://localhost:8080/"
        },
        "id": "3zkN-reIYOo1",
        "outputId": "3e412cf7-b3a5-4600-86f5-f8acbc5e4679"
      },
      "source": [
        "model.fit(x_train,y_train,batch_size=11,epochs=100,verbose=1)"
      ],
      "execution_count": null,
      "outputs": [
        {
          "output_type": "stream",
          "name": "stdout",
          "text": [
            "Epoch 1/100\n",
            "37/37 [==============================] - 1s 3ms/step - loss: 0.0880 - accuracy: 0.9325\n",
            "Epoch 2/100\n",
            "37/37 [==============================] - 0s 3ms/step - loss: 0.0022 - accuracy: 1.0000\n",
            "Epoch 3/100\n",
            "37/37 [==============================] - 0s 3ms/step - loss: 5.2106e-04 - accuracy: 1.0000\n",
            "Epoch 4/100\n",
            "37/37 [==============================] - 0s 3ms/step - loss: 2.7241e-04 - accuracy: 1.0000\n",
            "Epoch 5/100\n",
            "37/37 [==============================] - 0s 3ms/step - loss: 1.7036e-04 - accuracy: 1.0000\n",
            "Epoch 6/100\n",
            "37/37 [==============================] - 0s 3ms/step - loss: 1.1493e-04 - accuracy: 1.0000\n",
            "Epoch 7/100\n",
            "37/37 [==============================] - 0s 3ms/step - loss: 8.3352e-05 - accuracy: 1.0000\n",
            "Epoch 8/100\n",
            "37/37 [==============================] - 0s 3ms/step - loss: 6.3155e-05 - accuracy: 1.0000\n",
            "Epoch 9/100\n",
            "37/37 [==============================] - 0s 3ms/step - loss: 4.9443e-05 - accuracy: 1.0000\n",
            "Epoch 10/100\n",
            "37/37 [==============================] - 0s 3ms/step - loss: 4.0080e-05 - accuracy: 1.0000\n",
            "Epoch 11/100\n",
            "37/37 [==============================] - 0s 3ms/step - loss: 3.2827e-05 - accuracy: 1.0000\n",
            "Epoch 12/100\n",
            "37/37 [==============================] - 0s 3ms/step - loss: 2.7565e-05 - accuracy: 1.0000\n",
            "Epoch 13/100\n",
            "37/37 [==============================] - 0s 3ms/step - loss: 2.3475e-05 - accuracy: 1.0000\n",
            "Epoch 14/100\n",
            "37/37 [==============================] - 0s 3ms/step - loss: 2.0213e-05 - accuracy: 1.0000\n",
            "Epoch 15/100\n",
            "37/37 [==============================] - 0s 3ms/step - loss: 1.7630e-05 - accuracy: 1.0000\n",
            "Epoch 16/100\n",
            "37/37 [==============================] - 0s 4ms/step - loss: 1.5510e-05 - accuracy: 1.0000\n",
            "Epoch 17/100\n",
            "37/37 [==============================] - 0s 3ms/step - loss: 1.3725e-05 - accuracy: 1.0000\n",
            "Epoch 18/100\n",
            "37/37 [==============================] - 0s 3ms/step - loss: 1.2246e-05 - accuracy: 1.0000\n",
            "Epoch 19/100\n",
            "37/37 [==============================] - 0s 3ms/step - loss: 1.0990e-05 - accuracy: 1.0000\n",
            "Epoch 20/100\n",
            "37/37 [==============================] - 0s 3ms/step - loss: 9.9057e-06 - accuracy: 1.0000\n",
            "Epoch 21/100\n",
            "37/37 [==============================] - 0s 3ms/step - loss: 8.9788e-06 - accuracy: 1.0000\n",
            "Epoch 22/100\n",
            "37/37 [==============================] - 0s 3ms/step - loss: 8.1769e-06 - accuracy: 1.0000\n",
            "Epoch 23/100\n",
            "37/37 [==============================] - 0s 3ms/step - loss: 7.4690e-06 - accuracy: 1.0000\n",
            "Epoch 24/100\n",
            "37/37 [==============================] - 0s 3ms/step - loss: 6.8544e-06 - accuracy: 1.0000\n",
            "Epoch 25/100\n",
            "37/37 [==============================] - 0s 3ms/step - loss: 6.2966e-06 - accuracy: 1.0000\n",
            "Epoch 26/100\n",
            "37/37 [==============================] - 0s 3ms/step - loss: 5.8055e-06 - accuracy: 1.0000\n",
            "Epoch 27/100\n",
            "37/37 [==============================] - 0s 4ms/step - loss: 5.3658e-06 - accuracy: 1.0000\n",
            "Epoch 28/100\n",
            "37/37 [==============================] - 0s 3ms/step - loss: 4.9890e-06 - accuracy: 1.0000\n",
            "Epoch 29/100\n",
            "37/37 [==============================] - 0s 3ms/step - loss: 4.6422e-06 - accuracy: 1.0000\n",
            "Epoch 30/100\n",
            "37/37 [==============================] - 0s 3ms/step - loss: 4.3286e-06 - accuracy: 1.0000\n",
            "Epoch 31/100\n",
            "37/37 [==============================] - 0s 3ms/step - loss: 4.0472e-06 - accuracy: 1.0000\n",
            "Epoch 32/100\n",
            "37/37 [==============================] - 0s 3ms/step - loss: 3.7899e-06 - accuracy: 1.0000\n",
            "Epoch 33/100\n",
            "37/37 [==============================] - 0s 3ms/step - loss: 3.5574e-06 - accuracy: 1.0000\n",
            "Epoch 34/100\n",
            "37/37 [==============================] - 0s 3ms/step - loss: 3.3430e-06 - accuracy: 1.0000\n",
            "Epoch 35/100\n",
            "37/37 [==============================] - 0s 3ms/step - loss: 3.1478e-06 - accuracy: 1.0000\n",
            "Epoch 36/100\n",
            "37/37 [==============================] - 0s 3ms/step - loss: 2.9682e-06 - accuracy: 1.0000\n",
            "Epoch 37/100\n",
            "37/37 [==============================] - 0s 3ms/step - loss: 2.8016e-06 - accuracy: 1.0000\n",
            "Epoch 38/100\n",
            "37/37 [==============================] - 0s 3ms/step - loss: 2.6467e-06 - accuracy: 1.0000\n",
            "Epoch 39/100\n",
            "37/37 [==============================] - 0s 3ms/step - loss: 2.5048e-06 - accuracy: 1.0000\n",
            "Epoch 40/100\n",
            "37/37 [==============================] - 0s 3ms/step - loss: 2.3728e-06 - accuracy: 1.0000\n",
            "Epoch 41/100\n",
            "37/37 [==============================] - 0s 3ms/step - loss: 2.2507e-06 - accuracy: 1.0000\n",
            "Epoch 42/100\n",
            "37/37 [==============================] - 0s 3ms/step - loss: 2.1357e-06 - accuracy: 1.0000\n",
            "Epoch 43/100\n",
            "37/37 [==============================] - 0s 4ms/step - loss: 2.0308e-06 - accuracy: 1.0000\n",
            "Epoch 44/100\n",
            "37/37 [==============================] - 0s 4ms/step - loss: 1.9311e-06 - accuracy: 1.0000\n",
            "Epoch 45/100\n",
            "37/37 [==============================] - 0s 3ms/step - loss: 1.8387e-06 - accuracy: 1.0000\n",
            "Epoch 46/100\n",
            "37/37 [==============================] - 0s 3ms/step - loss: 1.7516e-06 - accuracy: 1.0000\n",
            "Epoch 47/100\n",
            "37/37 [==============================] - 0s 3ms/step - loss: 1.6717e-06 - accuracy: 1.0000\n",
            "Epoch 48/100\n",
            "37/37 [==============================] - 0s 3ms/step - loss: 1.5955e-06 - accuracy: 1.0000\n",
            "Epoch 49/100\n",
            "37/37 [==============================] - 0s 4ms/step - loss: 1.5240e-06 - accuracy: 1.0000\n",
            "Epoch 50/100\n",
            "37/37 [==============================] - 0s 3ms/step - loss: 1.4575e-06 - accuracy: 1.0000\n",
            "Epoch 51/100\n",
            "37/37 [==============================] - 0s 3ms/step - loss: 1.3957e-06 - accuracy: 1.0000\n",
            "Epoch 52/100\n",
            "37/37 [==============================] - 0s 4ms/step - loss: 1.3344e-06 - accuracy: 1.0000\n",
            "Epoch 53/100\n",
            "37/37 [==============================] - 0s 3ms/step - loss: 1.2789e-06 - accuracy: 1.0000\n",
            "Epoch 54/100\n",
            "37/37 [==============================] - 0s 3ms/step - loss: 1.2256e-06 - accuracy: 1.0000\n",
            "Epoch 55/100\n",
            "37/37 [==============================] - 0s 3ms/step - loss: 1.1753e-06 - accuracy: 1.0000\n",
            "Epoch 56/100\n",
            "37/37 [==============================] - 0s 3ms/step - loss: 1.1279e-06 - accuracy: 1.0000\n",
            "Epoch 57/100\n",
            "37/37 [==============================] - 0s 3ms/step - loss: 1.0836e-06 - accuracy: 1.0000\n",
            "Epoch 58/100\n",
            "37/37 [==============================] - 0s 3ms/step - loss: 1.0415e-06 - accuracy: 1.0000\n",
            "Epoch 59/100\n",
            "37/37 [==============================] - 0s 3ms/step - loss: 1.0013e-06 - accuracy: 1.0000\n",
            "Epoch 60/100\n",
            "37/37 [==============================] - 0s 3ms/step - loss: 9.6296e-07 - accuracy: 1.0000\n",
            "Epoch 61/100\n",
            "37/37 [==============================] - 0s 3ms/step - loss: 9.2723e-07 - accuracy: 1.0000\n",
            "Epoch 62/100\n",
            "37/37 [==============================] - 0s 3ms/step - loss: 8.9241e-07 - accuracy: 1.0000\n",
            "Epoch 63/100\n",
            "37/37 [==============================] - 0s 3ms/step - loss: 8.5941e-07 - accuracy: 1.0000\n",
            "Epoch 64/100\n",
            "37/37 [==============================] - 0s 3ms/step - loss: 8.2805e-07 - accuracy: 1.0000\n",
            "Epoch 65/100\n",
            "37/37 [==============================] - 0s 3ms/step - loss: 7.9777e-07 - accuracy: 1.0000\n",
            "Epoch 66/100\n",
            "37/37 [==============================] - 0s 3ms/step - loss: 7.6945e-07 - accuracy: 1.0000\n",
            "Epoch 67/100\n",
            "37/37 [==============================] - 0s 3ms/step - loss: 7.4239e-07 - accuracy: 1.0000\n",
            "Epoch 68/100\n",
            "37/37 [==============================] - 0s 3ms/step - loss: 7.1645e-07 - accuracy: 1.0000\n",
            "Epoch 69/100\n",
            "37/37 [==============================] - 0s 3ms/step - loss: 6.9197e-07 - accuracy: 1.0000\n",
            "Epoch 70/100\n",
            "37/37 [==============================] - 0s 3ms/step - loss: 6.6831e-07 - accuracy: 1.0000\n",
            "Epoch 71/100\n",
            "37/37 [==============================] - 0s 3ms/step - loss: 6.4539e-07 - accuracy: 1.0000\n",
            "Epoch 72/100\n",
            "37/37 [==============================] - 0s 3ms/step - loss: 6.2359e-07 - accuracy: 1.0000\n",
            "Epoch 73/100\n",
            "37/37 [==============================] - 0s 3ms/step - loss: 6.0292e-07 - accuracy: 1.0000\n",
            "Epoch 74/100\n",
            "37/37 [==============================] - 0s 3ms/step - loss: 5.8353e-07 - accuracy: 1.0000\n",
            "Epoch 75/100\n",
            "37/37 [==============================] - 0s 3ms/step - loss: 5.6411e-07 - accuracy: 1.0000\n",
            "Epoch 76/100\n",
            "37/37 [==============================] - 0s 3ms/step - loss: 5.4565e-07 - accuracy: 1.0000\n",
            "Epoch 77/100\n",
            "37/37 [==============================] - 0s 3ms/step - loss: 5.2821e-07 - accuracy: 1.0000\n",
            "Epoch 78/100\n",
            "37/37 [==============================] - 0s 3ms/step - loss: 5.1144e-07 - accuracy: 1.0000\n",
            "Epoch 79/100\n",
            "37/37 [==============================] - 0s 3ms/step - loss: 4.9540e-07 - accuracy: 1.0000\n",
            "Epoch 80/100\n",
            "37/37 [==============================] - 0s 3ms/step - loss: 4.7998e-07 - accuracy: 1.0000\n",
            "Epoch 81/100\n",
            "37/37 [==============================] - 0s 3ms/step - loss: 4.6493e-07 - accuracy: 1.0000\n",
            "Epoch 82/100\n",
            "37/37 [==============================] - 0s 4ms/step - loss: 4.5043e-07 - accuracy: 1.0000\n",
            "Epoch 83/100\n",
            "37/37 [==============================] - 0s 3ms/step - loss: 4.3707e-07 - accuracy: 1.0000\n",
            "Epoch 84/100\n",
            "37/37 [==============================] - 0s 3ms/step - loss: 4.2371e-07 - accuracy: 1.0000\n",
            "Epoch 85/100\n",
            "37/37 [==============================] - 0s 3ms/step - loss: 4.1099e-07 - accuracy: 1.0000\n",
            "Epoch 86/100\n",
            "37/37 [==============================] - 0s 3ms/step - loss: 3.9877e-07 - accuracy: 1.0000\n",
            "Epoch 87/100\n",
            "37/37 [==============================] - 0s 3ms/step - loss: 3.8699e-07 - accuracy: 1.0000\n",
            "Epoch 88/100\n",
            "37/37 [==============================] - 0s 3ms/step - loss: 3.7551e-07 - accuracy: 1.0000\n",
            "Epoch 89/100\n",
            "37/37 [==============================] - 0s 3ms/step - loss: 3.6445e-07 - accuracy: 1.0000\n",
            "Epoch 90/100\n",
            "37/37 [==============================] - 0s 4ms/step - loss: 3.5370e-07 - accuracy: 1.0000\n",
            "Epoch 91/100\n",
            "37/37 [==============================] - 0s 3ms/step - loss: 3.4280e-07 - accuracy: 1.0000\n",
            "Epoch 92/100\n",
            "37/37 [==============================] - 0s 3ms/step - loss: 3.3281e-07 - accuracy: 1.0000\n",
            "Epoch 93/100\n",
            "37/37 [==============================] - 0s 3ms/step - loss: 3.2331e-07 - accuracy: 1.0000\n",
            "Epoch 94/100\n",
            "37/37 [==============================] - 0s 3ms/step - loss: 3.1410e-07 - accuracy: 1.0000\n",
            "Epoch 95/100\n",
            "37/37 [==============================] - 0s 3ms/step - loss: 3.0511e-07 - accuracy: 1.0000\n",
            "Epoch 96/100\n",
            "37/37 [==============================] - 0s 3ms/step - loss: 2.9662e-07 - accuracy: 1.0000\n",
            "Epoch 97/100\n",
            "37/37 [==============================] - 0s 3ms/step - loss: 2.8837e-07 - accuracy: 1.0000\n",
            "Epoch 98/100\n",
            "37/37 [==============================] - 0s 3ms/step - loss: 2.8059e-07 - accuracy: 1.0000\n",
            "Epoch 99/100\n",
            "37/37 [==============================] - 0s 3ms/step - loss: 2.7287e-07 - accuracy: 1.0000\n",
            "Epoch 100/100\n",
            "37/37 [==============================] - 0s 3ms/step - loss: 2.6531e-07 - accuracy: 1.0000\n"
          ]
        },
        {
          "output_type": "execute_result",
          "data": {
            "text/plain": [
              "<keras.callbacks.History at 0x7f100aba17d0>"
            ]
          },
          "metadata": {},
          "execution_count": 20
        }
      ]
    },
    {
      "cell_type": "code",
      "metadata": {
        "id": "6LtcY_LRN2Fi"
      },
      "source": [
        "kernel = model.get_weights()[0]\n",
        "kernel_1=[kernel[i,0,0] for i in range(32)]\n",
        "kernel_2=[kernel[i,0,1] for i in range(32)]"
      ],
      "execution_count": null,
      "outputs": []
    },
    {
      "cell_type": "code",
      "metadata": {
        "colab": {
          "base_uri": "https://localhost:8080/",
          "height": 297
        },
        "id": "3QLKT7wPPgxm",
        "outputId": "741f564f-cd15-4fad-b834-fea45ce7d7c5"
      },
      "source": [
        "filt1=np.fft.fft(kernel_1,64)\n",
        "filt2=np.fft.fft(kernel_2,64)\n",
        "\n",
        "plt.plot(np.array([2*i for i in range(32)]),abs(filt1[0:32]),label=\"Kernel 1\")\n",
        "plt.plot(np.array([2*i for i in range(32)]),abs(filt2[0:32]),label=\"Kernel 2\")\n",
        "plt.xlabel('Frequency (Hz)')\n",
        "plt.legend(loc=\"upper right\")"
      ],
      "execution_count": null,
      "outputs": [
        {
          "output_type": "execute_result",
          "data": {
            "text/plain": [
              "<matplotlib.legend.Legend at 0x7f1008bd09d0>"
            ]
          },
          "metadata": {},
          "execution_count": 48
        },
        {
          "output_type": "display_data",
          "data": {
            "text/plain": [
              "<Figure size 432x288 with 1 Axes>"
            ],
            "image/png": "[encoded data removed]"
          },
          "metadata": {
            "needs_background": "light"
          }
        }
      ]
    },
    {
      "cell_type": "code",
      "source": [
        "print(abs(filt2))"
      ],
      "metadata": {
        "colab": {
          "base_uri": "https://localhost:8080/"
        },
        "id": "vX1rbLU8D6Vp",
        "outputId": "f494d303-820d-464c-b2b1-cdf6b91800af"
      },
      "execution_count": null,
      "outputs": [
        {
          "output_type": "stream",
          "name": "stdout",
          "text": [
            "[0.08909561 0.29346938 0.94306068 0.92589418 0.87159407 1.77532667\n",
            " 1.31234416 0.15263782 0.78224636 0.54719154 1.4025963  1.36284181\n",
            " 0.40781179 1.05001359 0.98762667 0.1062647  0.86937607 1.09790307\n",
            " 1.0239073  0.65972673 0.15021317 0.64053846 0.74030206 0.69905489\n",
            " 0.22644452 0.90675992 0.82150275 0.07958644 0.42863377 0.64431166\n",
            " 0.96066438 0.37385541 0.12959777 0.37385541 0.96066438 0.64431166\n",
            " 0.42863377 0.07958644 0.82150275 0.90675992 0.22644452 0.69905489\n",
            " 0.74030206 0.64053846 0.15021317 0.65972673 1.0239073  1.09790307\n",
            " 0.86937607 0.1062647  0.98762667 1.05001359 0.40781179 1.36284181\n",
            " 1.4025963  0.54719154 0.78224636 0.15263782 1.31234416 1.77532667\n",
            " 0.87159407 0.92589418 0.94306068 0.29346938]\n"
          ]
        }
      ]
    },
    {
      "cell_type": "code",
      "metadata": {
        "id": "eV4u_hfHTkmc",
        "colab": {
          "base_uri": "https://localhost:8080/",
          "height": 316
        },
        "outputId": "b85ab3bc-55e8-423f-942e-8f2564615b9f"
      },
      "source": [
        "#Noisy signals, 5Hz eg\n",
        "timelist=[i/128 for i in range(128)]\n",
        "\n",
        "front_noise_length=rand.randint(10,30)\n",
        "sine_length=rand.randint(35,60)\n",
        "back_noise_length=128-front_noise_length-sine_length\n",
        "\n",
        "sine_times=[(i+front_noise_length)/128 for i in range(sine_length)]\n",
        "\n",
        "front_noise=[[rand.gauss(0,0.45)] for i in range(front_noise_length)]\n",
        "sine_section=[[m.sin(10*m.pi*i)] for i in sine_times]\n",
        "back_noise=[[rand.gauss(0,0.45)] for i in range(back_noise_length)]\n",
        "\n",
        "full_signal_list=front_noise+sine_section+back_noise\n",
        "x5noise=np.array(full_signal_list)\n",
        "\n",
        "list1=[1,2,3]\n",
        "print([]+[list1]+[list1])\n",
        "\n",
        "times=np.array(timelist)\n",
        "plt.plot(timelist,x5noise)\n",
        "plt.xlabel('Time (s)')\n"
      ],
      "execution_count": null,
      "outputs": [
        {
          "output_type": "stream",
          "name": "stdout",
          "text": [
            "[[1, 2, 3], [1, 2, 3]]\n"
          ]
        },
        {
          "output_type": "execute_result",
          "data": {
            "text/plain": [
              "Text(0.5, 0, 'Time (s)')"
            ]
          },
          "metadata": {},
          "execution_count": 3
        },
        {
          "output_type": "display_data",
          "data": {
            "text/plain": [
              "<Figure size 432x288 with 1 Axes>"
            ],
            "image/png": "[encoded data removed]"
          },
          "metadata": {
            "needs_background": "light"
          }
        }
      ]
    },
    {
      "cell_type": "code",
      "metadata": {
        "id": "LbOhbwFyjobn",
        "colab": {
          "base_uri": "https://localhost:8080/"
        },
        "outputId": "e165e19f-2aab-442d-e6ee-855062eaf4e2"
      },
      "source": [
        "x5_samples_list=[]\n",
        "for k in range(200):\n",
        "  front_noise_length=rand.randint(10,30)\n",
        "  sine_length=rand.randint(35,60)\n",
        "  back_noise_length=128-front_noise_length-sine_length\n",
        "\n",
        "  sine_times=[(i+front_noise_length)/128 for i in range(sine_length)]\n",
        "\n",
        "  front_noise=[[rand.gauss(0,0.45)] for i in range(front_noise_length)]\n",
        "  sine_section=[[m.sin(10*m.pi*i)] for i in sine_times]\n",
        "  back_noise=[[rand.gauss(0,0.45)] for i in range(back_noise_length)]\n",
        "\n",
        "  full_signal_list=front_noise+sine_section+back_noise\n",
        "  x5_samples_list=x5_samples_list+[full_signal_list]\n",
        "\n",
        "x10_samples_list=[]\n",
        "for k in range(200):\n",
        "  front_noise_length=rand.randint(10,30)\n",
        "  sine_length=rand.randint(35,60)\n",
        "  back_noise_length=128-front_noise_length-sine_length\n",
        "\n",
        "  sine_times=[(i+front_noise_length)/128 for i in range(sine_length)]\n",
        "\n",
        "  front_noise=[[rand.gauss(0,0.45)] for i in range(front_noise_length)]\n",
        "  sine_section=[[m.sin(20*m.pi*i)] for i in sine_times]\n",
        "  back_noise=[[rand.gauss(0,0.45)] for i in range(back_noise_length)]\n",
        "\n",
        "  full_signal_list=front_noise+sine_section+back_noise\n",
        "  x10_samples_list=x10_samples_list+[full_signal_list]\n",
        "\n",
        "x5_train_noise=np.array(x5_samples_list)\n",
        "x10_train_noise=np.array(x10_samples_list)\n",
        "x_train_noise=np.concatenate((x5_train_noise,x10_train_noise),axis=0)\n",
        "y5_train=np.array([[1,0] for i in range(200)])\n",
        "y10_train=np.array([[0,1] for i in range(200)])\n",
        "y_train=np.concatenate((y5_train,y10_train),axis=0)\n",
        "\n",
        "print(x_train_noise.shape)\n",
        "print(y_train.shape)"
      ],
      "execution_count": null,
      "outputs": [
        {
          "output_type": "stream",
          "name": "stdout",
          "text": [
            "(400, 128, 1)\n",
            "(400, 2)\n"
          ]
        }
      ]
    },
    {
      "cell_type": "code",
      "metadata": {
        "id": "W--et7wZkjU4"
      },
      "source": [
        "no_kernels=2\n",
        "n_i=128\n",
        "length_of_kernel=32\n",
        "\n",
        "model_n=models.Sequential()\n",
        "model_n.add(layers.Conv1D(no_kernels,length_of_kernel,activation='relu',padding='same',input_shape=(n_i,1)))\n",
        "model_n.add(layers.Dropout(0.8))\n",
        "model_n.add(layers.Flatten())\n",
        "model_n.add(layers.Dense(2,activation='softmax'))\n",
        "model_n.compile(loss='mse',optimizer='adam',metrics=['accuracy'])"
      ],
      "execution_count": null,
      "outputs": []
    },
    {
      "cell_type": "code",
      "metadata": {
        "colab": {
          "base_uri": "https://localhost:8080/"
        },
        "id": "4i8eaE9Vmdec",
        "outputId": "13ec5450-78d0-4e3f-9d8e-61374b3f8b18"
      },
      "source": [
        "model_n.fit(x_train_noise,y_train,batch_size=11,epochs=100,verbose=1)"
      ],
      "execution_count": null,
      "outputs": [
        {
          "output_type": "stream",
          "name": "stdout",
          "text": [
            "Epoch 1/100\n",
            "37/37 [==============================] - 1s 2ms/step - loss: 0.2129 - accuracy: 0.6550\n",
            "Epoch 2/100\n",
            "37/37 [==============================] - 0s 2ms/step - loss: 0.1264 - accuracy: 0.7950\n",
            "Epoch 3/100\n",
            "37/37 [==============================] - 0s 2ms/step - loss: 0.0722 - accuracy: 0.9025\n",
            "Epoch 4/100\n",
            "37/37 [==============================] - 0s 2ms/step - loss: 0.0500 - accuracy: 0.9500\n",
            "Epoch 5/100\n",
            "37/37 [==============================] - 0s 2ms/step - loss: 0.0347 - accuracy: 0.9575\n",
            "Epoch 6/100\n",
            "37/37 [==============================] - 0s 2ms/step - loss: 0.0318 - accuracy: 0.9575\n",
            "Epoch 7/100\n",
            "37/37 [==============================] - 0s 2ms/step - loss: 0.0170 - accuracy: 0.9875\n",
            "Epoch 8/100\n",
            "37/37 [==============================] - 0s 2ms/step - loss: 0.0132 - accuracy: 0.9850\n",
            "Epoch 9/100\n",
            "37/37 [==============================] - 0s 2ms/step - loss: 0.0196 - accuracy: 0.9725\n",
            "Epoch 10/100\n",
            "37/37 [==============================] - 0s 2ms/step - loss: 0.0103 - accuracy: 0.9875\n",
            "Epoch 11/100\n",
            "37/37 [==============================] - 0s 2ms/step - loss: 0.0121 - accuracy: 0.9900\n",
            "Epoch 12/100\n",
            "37/37 [==============================] - 0s 2ms/step - loss: 0.0063 - accuracy: 0.9975\n",
            "Epoch 13/100\n",
            "37/37 [==============================] - 0s 2ms/step - loss: 0.0125 - accuracy: 0.9850\n",
            "Epoch 14/100\n",
            "37/37 [==============================] - 0s 3ms/step - loss: 0.0100 - accuracy: 0.9875\n",
            "Epoch 15/100\n",
            "37/37 [==============================] - 0s 3ms/step - loss: 0.0088 - accuracy: 0.9900\n",
            "Epoch 16/100\n",
            "37/37 [==============================] - 0s 2ms/step - loss: 0.0067 - accuracy: 0.9925\n",
            "Epoch 17/100\n",
            "37/37 [==============================] - 0s 2ms/step - loss: 0.0073 - accuracy: 0.9900\n",
            "Epoch 18/100\n",
            "37/37 [==============================] - 0s 2ms/step - loss: 0.0047 - accuracy: 0.9900\n",
            "Epoch 19/100\n",
            "37/37 [==============================] - 0s 2ms/step - loss: 0.0049 - accuracy: 0.9950\n",
            "Epoch 20/100\n",
            "37/37 [==============================] - 0s 2ms/step - loss: 0.0037 - accuracy: 0.9975\n",
            "Epoch 21/100\n",
            "37/37 [==============================] - 0s 2ms/step - loss: 0.0070 - accuracy: 0.9900\n",
            "Epoch 22/100\n",
            "37/37 [==============================] - 0s 2ms/step - loss: 0.0067 - accuracy: 0.9925\n",
            "Epoch 23/100\n",
            "37/37 [==============================] - 0s 2ms/step - loss: 0.0029 - accuracy: 1.0000\n",
            "Epoch 24/100\n",
            "37/37 [==============================] - 0s 2ms/step - loss: 0.0074 - accuracy: 0.9925\n",
            "Epoch 25/100\n",
            "37/37 [==============================] - 0s 2ms/step - loss: 0.0039 - accuracy: 0.9950\n",
            "Epoch 26/100\n",
            "37/37 [==============================] - 0s 3ms/step - loss: 0.0030 - accuracy: 0.9975\n",
            "Epoch 27/100\n",
            "37/37 [==============================] - 0s 3ms/step - loss: 0.0028 - accuracy: 1.0000\n",
            "Epoch 28/100\n",
            "37/37 [==============================] - 0s 3ms/step - loss: 0.0035 - accuracy: 0.9925\n",
            "Epoch 29/100\n",
            "37/37 [==============================] - 0s 2ms/step - loss: 0.0091 - accuracy: 0.9875\n",
            "Epoch 30/100\n",
            "37/37 [==============================] - 0s 2ms/step - loss: 0.0061 - accuracy: 0.9925\n",
            "Epoch 31/100\n",
            "37/37 [==============================] - 0s 2ms/step - loss: 0.0035 - accuracy: 0.9975\n",
            "Epoch 32/100\n",
            "37/37 [==============================] - 0s 3ms/step - loss: 0.0033 - accuracy: 0.9975\n",
            "Epoch 33/100\n",
            "37/37 [==============================] - 0s 2ms/step - loss: 0.0051 - accuracy: 1.0000\n",
            "Epoch 34/100\n",
            "37/37 [==============================] - 0s 3ms/step - loss: 0.0021 - accuracy: 0.9975\n",
            "Epoch 35/100\n",
            "37/37 [==============================] - 0s 2ms/step - loss: 0.0012 - accuracy: 1.0000\n",
            "Epoch 36/100\n",
            "37/37 [==============================] - 0s 3ms/step - loss: 0.0049 - accuracy: 0.9925\n",
            "Epoch 37/100\n",
            "37/37 [==============================] - 0s 2ms/step - loss: 6.6529e-04 - accuracy: 1.0000\n",
            "Epoch 38/100\n",
            "37/37 [==============================] - 0s 2ms/step - loss: 0.0032 - accuracy: 0.9975\n",
            "Epoch 39/100\n",
            "37/37 [==============================] - 0s 2ms/step - loss: 0.0038 - accuracy: 0.9950\n",
            "Epoch 40/100\n",
            "37/37 [==============================] - 0s 2ms/step - loss: 0.0023 - accuracy: 0.9975\n",
            "Epoch 41/100\n",
            "37/37 [==============================] - 0s 4ms/step - loss: 0.0016 - accuracy: 1.0000\n",
            "Epoch 42/100\n",
            "37/37 [==============================] - 0s 6ms/step - loss: 0.0031 - accuracy: 0.9950\n",
            "Epoch 43/100\n",
            "37/37 [==============================] - 0s 4ms/step - loss: 0.0024 - accuracy: 1.0000\n",
            "Epoch 44/100\n",
            "37/37 [==============================] - 0s 2ms/step - loss: 0.0027 - accuracy: 0.9975\n",
            "Epoch 45/100\n",
            "37/37 [==============================] - 0s 2ms/step - loss: 0.0037 - accuracy: 0.9950\n",
            "Epoch 46/100\n",
            "37/37 [==============================] - 0s 2ms/step - loss: 0.0019 - accuracy: 0.9975\n",
            "Epoch 47/100\n",
            "37/37 [==============================] - 0s 3ms/step - loss: 0.0019 - accuracy: 0.9975\n",
            "Epoch 48/100\n",
            "37/37 [==============================] - 0s 4ms/step - loss: 0.0011 - accuracy: 1.0000\n",
            "Epoch 49/100\n",
            "37/37 [==============================] - 0s 7ms/step - loss: 0.0030 - accuracy: 0.9975\n",
            "Epoch 50/100\n",
            "37/37 [==============================] - 0s 2ms/step - loss: 0.0025 - accuracy: 0.9950\n",
            "Epoch 51/100\n",
            "37/37 [==============================] - 0s 3ms/step - loss: 0.0043 - accuracy: 0.9950\n",
            "Epoch 52/100\n",
            "37/37 [==============================] - 0s 2ms/step - loss: 0.0053 - accuracy: 0.9900\n",
            "Epoch 53/100\n",
            "37/37 [==============================] - 0s 2ms/step - loss: 0.0041 - accuracy: 0.9950\n",
            "Epoch 54/100\n",
            "37/37 [==============================] - 0s 2ms/step - loss: 0.0018 - accuracy: 1.0000\n",
            "Epoch 55/100\n",
            "37/37 [==============================] - 0s 4ms/step - loss: 0.0021 - accuracy: 0.9975\n",
            "Epoch 56/100\n",
            "37/37 [==============================] - 0s 6ms/step - loss: 8.9677e-04 - accuracy: 1.0000\n",
            "Epoch 57/100\n",
            "37/37 [==============================] - 0s 4ms/step - loss: 7.8481e-04 - accuracy: 1.0000\n",
            "Epoch 58/100\n",
            "37/37 [==============================] - 0s 2ms/step - loss: 0.0016 - accuracy: 0.9975\n",
            "Epoch 59/100\n",
            "37/37 [==============================] - 0s 3ms/step - loss: 4.5469e-04 - accuracy: 1.0000\n",
            "Epoch 60/100\n",
            "37/37 [==============================] - 0s 3ms/step - loss: 0.0017 - accuracy: 0.9975\n",
            "Epoch 61/100\n",
            "37/37 [==============================] - 0s 2ms/step - loss: 0.0054 - accuracy: 0.9925\n",
            "Epoch 62/100\n",
            "37/37 [==============================] - 0s 2ms/step - loss: 0.0025 - accuracy: 0.9975\n",
            "Epoch 63/100\n",
            "37/37 [==============================] - 0s 2ms/step - loss: 0.0016 - accuracy: 0.9975\n",
            "Epoch 64/100\n",
            "37/37 [==============================] - 0s 2ms/step - loss: 0.0012 - accuracy: 1.0000\n",
            "Epoch 65/100\n",
            "37/37 [==============================] - 0s 2ms/step - loss: 0.0032 - accuracy: 0.9975\n",
            "Epoch 66/100\n",
            "37/37 [==============================] - 0s 3ms/step - loss: 0.0031 - accuracy: 0.9950\n",
            "Epoch 67/100\n",
            "37/37 [==============================] - 0s 3ms/step - loss: 1.7595e-04 - accuracy: 1.0000\n",
            "Epoch 68/100\n",
            "37/37 [==============================] - 0s 2ms/step - loss: 0.0015 - accuracy: 0.9975\n",
            "Epoch 69/100\n",
            "37/37 [==============================] - 0s 3ms/step - loss: 6.0542e-04 - accuracy: 1.0000\n",
            "Epoch 70/100\n",
            "37/37 [==============================] - 0s 2ms/step - loss: 0.0015 - accuracy: 0.9975\n",
            "Epoch 71/100\n",
            "37/37 [==============================] - 0s 2ms/step - loss: 0.0024 - accuracy: 0.9975\n",
            "Epoch 72/100\n",
            "37/37 [==============================] - 0s 2ms/step - loss: 0.0018 - accuracy: 0.9975\n",
            "Epoch 73/100\n",
            "37/37 [==============================] - 0s 2ms/step - loss: 0.0023 - accuracy: 0.9975\n",
            "Epoch 74/100\n",
            "37/37 [==============================] - 0s 2ms/step - loss: 9.2926e-04 - accuracy: 1.0000\n",
            "Epoch 75/100\n",
            "37/37 [==============================] - 0s 2ms/step - loss: 0.0033 - accuracy: 0.9975\n",
            "Epoch 76/100\n",
            "37/37 [==============================] - 0s 2ms/step - loss: 5.2343e-04 - accuracy: 1.0000\n",
            "Epoch 77/100\n",
            "37/37 [==============================] - 0s 2ms/step - loss: 0.0019 - accuracy: 0.9975\n",
            "Epoch 78/100\n",
            "37/37 [==============================] - 0s 2ms/step - loss: 3.9398e-04 - accuracy: 1.0000\n",
            "Epoch 79/100\n",
            "37/37 [==============================] - 0s 2ms/step - loss: 0.0039 - accuracy: 0.9950\n",
            "Epoch 80/100\n",
            "37/37 [==============================] - 0s 3ms/step - loss: 0.0013 - accuracy: 1.0000\n",
            "Epoch 81/100\n",
            "37/37 [==============================] - 0s 2ms/step - loss: 1.6827e-04 - accuracy: 1.0000\n",
            "Epoch 82/100\n",
            "37/37 [==============================] - 0s 2ms/step - loss: 0.0013 - accuracy: 0.9975\n",
            "Epoch 83/100\n",
            "37/37 [==============================] - 0s 2ms/step - loss: 0.0041 - accuracy: 0.9950\n",
            "Epoch 84/100\n",
            "37/37 [==============================] - 0s 2ms/step - loss: 3.7165e-04 - accuracy: 1.0000\n",
            "Epoch 85/100\n",
            "37/37 [==============================] - 0s 2ms/step - loss: 0.0018 - accuracy: 0.9975\n",
            "Epoch 86/100\n",
            "37/37 [==============================] - 0s 2ms/step - loss: 0.0010 - accuracy: 1.0000\n",
            "Epoch 87/100\n",
            "37/37 [==============================] - 0s 2ms/step - loss: 0.0011 - accuracy: 1.0000\n",
            "Epoch 88/100\n",
            "37/37 [==============================] - 0s 2ms/step - loss: 0.0016 - accuracy: 0.9975\n",
            "Epoch 89/100\n",
            "37/37 [==============================] - 0s 2ms/step - loss: 9.3809e-04 - accuracy: 1.0000\n",
            "Epoch 90/100\n",
            "37/37 [==============================] - 0s 3ms/step - loss: 0.0021 - accuracy: 0.9975\n",
            "Epoch 91/100\n",
            "37/37 [==============================] - 0s 2ms/step - loss: 0.0016 - accuracy: 0.9975\n",
            "Epoch 92/100\n",
            "37/37 [==============================] - 0s 3ms/step - loss: 0.0017 - accuracy: 0.9975\n",
            "Epoch 93/100\n",
            "37/37 [==============================] - 0s 2ms/step - loss: 0.0029 - accuracy: 0.9950\n",
            "Epoch 94/100\n",
            "37/37 [==============================] - 0s 2ms/step - loss: 0.0011 - accuracy: 1.0000\n",
            "Epoch 95/100\n",
            "37/37 [==============================] - 0s 2ms/step - loss: 2.3495e-04 - accuracy: 1.0000\n",
            "Epoch 96/100\n",
            "37/37 [==============================] - 0s 2ms/step - loss: 6.3006e-04 - accuracy: 1.0000\n",
            "Epoch 97/100\n",
            "37/37 [==============================] - 0s 2ms/step - loss: 0.0013 - accuracy: 1.0000\n",
            "Epoch 98/100\n",
            "37/37 [==============================] - 0s 2ms/step - loss: 0.0013 - accuracy: 0.9975\n",
            "Epoch 99/100\n",
            "37/37 [==============================] - 0s 2ms/step - loss: 0.0021 - accuracy: 0.9975\n",
            "Epoch 100/100\n",
            "37/37 [==============================] - 0s 2ms/step - loss: 8.0577e-04 - accuracy: 1.0000\n"
          ]
        },
        {
          "output_type": "execute_result",
          "data": {
            "text/plain": [
              "<keras.callbacks.History at 0x7f05c3d81810>"
            ]
          },
          "metadata": {},
          "execution_count": 6
        }
      ]
    },
    {
      "cell_type": "code",
      "metadata": {
        "colab": {
          "base_uri": "https://localhost:8080/",
          "height": 313
        },
        "id": "gmR9MVzDoRVe",
        "outputId": "8293127a-a282-4a85-ad73-31f779ccfdb6"
      },
      "source": [
        "kernel = model_n.get_weights()[0]\n",
        "kernel_1=[kernel[i,0,0] for i in range(32)]\n",
        "kernel_2=[kernel[i,0,1] for i in range(32)]\n",
        "\n",
        "filt1=np.fft.fft(kernel_1,64)\n",
        "filt2=np.fft.fft(kernel_2,64)\n",
        "\n",
        "x1=[5,5]\n",
        "y1=[0,2.3]\n",
        "x2=[0,5]\n",
        "y2=[2.3,2.3]\n",
        "x3=[10,10]\n",
        "y3=[0,3.5]\n",
        "x4=[0,10]\n",
        "y4=[3.5,3.5]\n",
        "\n",
        "\n",
        "\n",
        "plt.plot(np.array([2*i for i in range(32)]),abs(filt1[0:32]))\n",
        "ax = plt.gca()\n",
        "ax.set_ylim([0, 3.6])\n",
        "ax.set_xlim([0, 66])\n",
        "plt.plot(x1,y1,x2,y2,x3,y3,x4,y4,linestyle='--',color=\"red\")\n",
        "plt.xlabel('Frequency (Hz)')\n",
        "plt.title('Kernel 1 Frequency Gain Response')"
      ],
      "execution_count": null,
      "outputs": [
        {
          "output_type": "execute_result",
          "data": {
            "text/plain": [
              "Text(0.5, 1.0, 'Kernel 1 Frequency Gain Response')"
            ]
          },
          "metadata": {},
          "execution_count": 18
        },
        {
          "output_type": "display_data",
          "data": {
            "text/plain": [
              "<Figure size 432x288 with 1 Axes>"
            ],
            "image/png": "[encoded data removed]"
          },
          "metadata": {
            "needs_background": "light"
          }
        }
      ]
    },
    {
      "cell_type": "code",
      "source": [
        "x1=[5,5]\n",
        "y1=[0,2.45]\n",
        "x2=[0,5]\n",
        "y2=[2.45,2.45]\n",
        "x3=[10,10]\n",
        "y3=[0,0.15]\n",
        "x4=[0,10]\n",
        "y4=[0.15,0.15]\n",
        "\n",
        "\n",
        "\n",
        "plt.plot(np.array([2*i for i in range(32)]),abs(filt2[0:32]))\n",
        "ax = plt.gca()\n",
        "ax.set_ylim([0, 3])\n",
        "ax.set_xlim([0, 66])\n",
        "plt.plot(x1,y1,x2,y2,x3,y3,x4,y4,linestyle='--',color=\"red\")\n",
        "plt.xlabel('Frequency (Hz)')\n",
        "plt.title('Kernel 2 Frequency Gain Response')"
      ],
      "metadata": {
        "colab": {
          "base_uri": "https://localhost:8080/",
          "height": 313
        },
        "id": "vYGra1tWSw2y",
        "outputId": "c7702cb8-6506-482c-bf59-b16362dc4b15"
      },
      "execution_count": null,
      "outputs": [
        {
          "output_type": "execute_result",
          "data": {
            "text/plain": [
              "Text(0.5, 1.0, 'Kernel 2 Frequency Gain Response')"
            ]
          },
          "metadata": {},
          "execution_count": 23
        },
        {
          "output_type": "display_data",
          "data": {
            "text/plain": [
              "<Figure size 432x288 with 1 Axes>"
            ],
            "image/png": "[encoded data removed]"
          },
          "metadata": {
            "needs_background": "light"
          }
        }
      ]
    }
  ]
}